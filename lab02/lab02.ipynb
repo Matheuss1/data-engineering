{
    "cells": [
        {
            "cell_type": "markdown",
            "source": [
                "# Laboratório 2"
            ],
            "metadata": {}
        },
        {
            "cell_type": "markdown",
            "source": [
                "## Tarefa 1"
            ],
            "metadata": {}
        },
        {
            "cell_type": "markdown",
            "source": [
                "### Carregar o nó de Tenda dos Milagres (da versão em inglês Tent of Miracles) em Python e mostre o conteúdo JSON."
            ],
            "metadata": {}
        },
        {
            "cell_type": "code",
            "execution_count": 2,
            "source": [
                "import requests\n",
                "import json"
            ],
            "outputs": [],
            "metadata": {}
        },
        {
            "cell_type": "code",
            "execution_count": 3,
            "source": [
                "tentOfMiracles_URL = 'https://dbpedia.org/data/Tent_of_Miracles_(novel).jsod'\n",
                "\n",
                "tentOfMiracles_data = requests.get(tentOfMiracles_URL)\n",
                "\n",
                "tentOfMiracles_data_AS_JSON = tentOfMiracles_data.json()\n",
                "\n",
                "print(json.dumps(tentOfMiracles_data_AS_JSON, indent=3))"
            ],
            "outputs": [
                {
                    "output_type": "stream",
                    "name": "stdout",
                    "text": [
                        "{\n",
                        "   \"d\": {\n",
                        "      \"results\": [\n",
                        "         {\n",
                        "            \"__metadata\": {\n",
                        "               \"uri\": \"http://dbpedia.org/resource/Tent_of_Miracles_(novel)\"\n",
                        "            },\n",
                        "            \"http://www.w3.org/2000/01/rdf-schema#label\": \"Tent of Miracles (novel)\",\n",
                        "            \"http://dbpedia.org/ontology/wikiPageWikiLink\": {\n",
                        "               \"__deferred\": {\n",
                        "                  \"uri\": \"http://dbpedia.org/resource/French_New_Wave\"\n",
                        "               }\n",
                        "            },\n",
                        "            \"http://purl.org/dc/terms/subject\": {\n",
                        "               \"__deferred\": {\n",
                        "                  \"uri\": \"http://dbpedia.org/resource/Category:Modernist_novels\"\n",
                        "               }\n",
                        "            },\n",
                        "            \"http://www.w3.org/1999/02/22-rdf-syntax-ns#type\": {\n",
                        "               \"__deferred\": {\n",
                        "                  \"uri\": \"http://dbpedia.org/ontology/WrittenWork\"\n",
                        "               }\n",
                        "            },\n",
                        "            \"http://dbpedia.org/property/wikiPageUsesTemplate\": {\n",
                        "               \"__deferred\": {\n",
                        "                  \"uri\": \"http://dbpedia.org/resource/Template:According_to_whom\"\n",
                        "               }\n",
                        "            },\n",
                        "            \"http://www.w3.org/2000/01/rdf-schema#comment\": \"Tent of Miracles (Portuguese: Tenda dos Milagres) is a Brazilian Modernist novel. It was written by Jorge Amado in 1967 and published the following year. It was later adapted to a 1977 Cinema Novo (Nouvelle Vague) film by director/screenplay writer Nelson Pereira dos Santos.\",\n",
                        "            \"http://dbpedia.org/ontology/abstract\": \"La bottega dei miracoli \\u00e8 un romanzo di Jorge Amado pubblicato nel 1960. Come altri romanzi dell&#39;autore (ad esempio Tieta d&#39;Agreste e Teresa Batista) \\u00e8 un testo composito, con un intreccio zigzagante fra analessi e prolessi, con mutamenti di voci narranti ed inserti di materiale eterogeneo.\\u00c8 possibile che l&#39;evento scatenante del racconto (la visita del famoso scienziato) sia stato ispirato dall&#39;esperienza vissuta; in quello stesso 1960, infatti, Jean Paul Sartre e Simone De Beauvoir visitarono il Brasile su invito dello stesso Amado: la visita divenne un evento mediatico, celebrato in numerose manifestazioni istituzionali.\",\n",
                        "            \"http://dbpedia.org/property/pubDate\": \"1969\",\n",
                        "            \"http://dbpedia.org/property/country\": {\n",
                        "               \"__deferred\": {\n",
                        "                  \"uri\": \"http://dbpedia.org/resource/Brazil\"\n",
                        "               }\n",
                        "            },\n",
                        "            \"http://www.w3.org/2002/07/owl#sameAs\": {\n",
                        "               \"__deferred\": {\n",
                        "                  \"uri\": \"http://rdf.freebase.com/ns/m.02xrs4\"\n",
                        "               }\n",
                        "            },\n",
                        "            \"http://dbpedia.org/ontology/wikiPageRevisionID\": \"974212123\",\n",
                        "            \"http://dbpedia.org/property/author\": {\n",
                        "               \"__deferred\": {\n",
                        "                  \"uri\": \"http://dbpedia.org/resource/Jorge_Amado\"\n",
                        "               }\n",
                        "            },\n",
                        "            \"http://dbpedia.org/ontology/author\": {\n",
                        "               \"__deferred\": {\n",
                        "                  \"uri\": \"http://dbpedia.org/resource/Jorge_Amado\"\n",
                        "               }\n",
                        "            },\n",
                        "            \"http://xmlns.com/foaf/0.1/name\": \"Tenda dos Milagres\",\n",
                        "            \"http://dbpedia.org/property/englishPubDate\": \"1971\",\n",
                        "            \"http://dbpedia.org/ontology/country\": {\n",
                        "               \"__deferred\": {\n",
                        "                  \"uri\": \"http://dbpedia.org/resource/Brazil\"\n",
                        "               }\n",
                        "            },\n",
                        "            \"http://dbpedia.org/property/name\": \"Tent of Miracles\",\n",
                        "            \"http://purl.org/linguistics/gold/hypernym\": {\n",
                        "               \"__deferred\": {\n",
                        "                  \"uri\": \"http://dbpedia.org/resource/Novel\"\n",
                        "               }\n",
                        "            },\n",
                        "            \"http://dbpedia.org/property/titleOrig\": \"Tenda dos Milagres\",\n",
                        "            \"http://dbpedia.org/ontology/publisher\": {\n",
                        "               \"__deferred\": {\n",
                        "                  \"uri\": \"http://dbpedia.org/resource/Brazil\"\n",
                        "               }\n",
                        "            },\n",
                        "            \"http://dbpedia.org/ontology/language\": {\n",
                        "               \"__deferred\": {\n",
                        "                  \"uri\": \"http://dbpedia.org/resource/Portuguese_language\"\n",
                        "               }\n",
                        "            },\n",
                        "            \"http://www.w3.org/ns/prov#wasDerivedFrom\": {\n",
                        "               \"__deferred\": {\n",
                        "                  \"uri\": \"http://en.wikipedia.org/wiki/Tent_of_Miracles_(novel)?oldid=974212123&ns=0\"\n",
                        "               }\n",
                        "            },\n",
                        "            \"http://dbpedia.org/ontology/wikiPageLength\": \"5253\",\n",
                        "            \"http://purl.org/dc/elements/1.1/publisher\": \"Martins, Sao Paulo, Brazil\",\n",
                        "            \"http://dbpedia.org/property/language\": {\n",
                        "               \"__deferred\": {\n",
                        "                  \"uri\": \"http://dbpedia.org/resource/Portuguese_language\"\n",
                        "               }\n",
                        "            },\n",
                        "            \"http://dbpedia.org/ontology/wikiPageID\": \"623351\",\n",
                        "            \"http://dbpedia.org/property/publisher\": \"Martins, Sao Paulo, Brazil\",\n",
                        "            \"http://dbpedia.org/property/caption\": \"First edition\",\n",
                        "            \"http://xmlns.com/foaf/0.1/isPrimaryTopicOf\": {\n",
                        "               \"__deferred\": {\n",
                        "                  \"uri\": \"http://en.wikipedia.org/wiki/Tent_of_Miracles_(novel)\"\n",
                        "               }\n",
                        "            }\n",
                        "         }\n",
                        "      ],\n",
                        "      \"__count\": \"1\"\n",
                        "   }\n",
                        "}\n"
                    ]
                }
            ],
            "metadata": {}
        },
        {
            "cell_type": "markdown",
            "source": [
                "## Tarefa 2"
            ],
            "metadata": {}
        },
        {
            "cell_type": "markdown",
            "source": [
                "### Recuperar via Python e mostrar o autor de Tendar dos Milagres"
            ],
            "metadata": {}
        },
        {
            "cell_type": "code",
            "execution_count": 8,
            "source": [
                "novelAuthor = tentOfMiracles_data_AS_JSON[\"d\"][\"results\"][0][\"http://dbpedia.org/ontology/author\"][\"__deferred\"][\"uri\"]\n",
                "\n",
                "print(\"Autor de Tenda dos milagres:\", novelAuthor)"
            ],
            "outputs": [
                {
                    "output_type": "stream",
                    "name": "stdout",
                    "text": [
                        "Autor de Tenda dos milagres: http://dbpedia.org/resource/Jorge_Amado\n"
                    ]
                }
            ],
            "metadata": {}
        },
        {
            "cell_type": "markdown",
            "source": [
                "## Tarefa 3"
            ],
            "metadata": {}
        },
        {
            "cell_type": "markdown",
            "source": [
                "### Quais os termos usados para Aspirina (consulta JSON/MeSH em Python)?"
            ],
            "metadata": {}
        },
        {
            "cell_type": "code",
            "execution_count": 29,
            "source": [
                "MeSH_API_URL = 'https://id.nlm.nih.gov/mesh/lookup/descriptor'\n",
                "\n",
                "MeSH_query_for_aspirin = {\n",
                "  \"label\": 'Aspirin', \n",
                "  \"match\": 'exact',\n",
                "  \"limit\": 10\n",
                "  }\n",
                "\n",
                "MeSH_aspirin_descriptor = requests.get(MeSH_API_URL, params=MeSH_query_for_aspirin).json()\n",
                "\n",
                "MeSH_aspirin_resource = MeSH_aspirin_descriptor[0][\"resource\"]\n",
                "\n",
                "print(\"uri do curso:\", MeSH_aspirin_resource)\n",
                "\n",
                "barIndex = str.rindex(MeSH_aspirin_resource, '/')\n",
                "resource_code = MeSH_aspirin_resource[barIndex+1:]\n",
                "\n",
                "print(\"Código do recurso:\", resource_code)"
            ],
            "outputs": [
                {
                    "output_type": "stream",
                    "name": "stdout",
                    "text": [
                        "uri do curso: http://id.nlm.nih.gov/mesh/D001241\n",
                        "Código do recurso: D001241\n"
                    ]
                }
            ],
            "metadata": {}
        },
        {
            "cell_type": "markdown",
            "source": [
                "Acessando código do recurso"
            ],
            "metadata": {}
        },
        {
            "cell_type": "code",
            "execution_count": 32,
            "source": [
                "\n",
                "MeSH_aspirin_resource_URL = f\"https://id.nlm.nih.gov/mesh/lookup/details?descriptor={resource_code}\"\n",
                "\n",
                "MeSH_aspirin_resource_data = requests.get(MeSH_aspirin_resource_URL).json()"
            ],
            "outputs": [],
            "metadata": {}
        },
        {
            "cell_type": "code",
            "execution_count": 34,
            "source": [
                "MeSH_aspirin_terms = MeSH_aspirin_resource_data[\"terms\"]\n",
                "\n",
                "print(json.dumps(MeSH_aspirin_terms, indent=3))"
            ],
            "outputs": [
                {
                    "output_type": "stream",
                    "name": "stdout",
                    "text": [
                        "[\n",
                        "   {\n",
                        "      \"resource\": \"http://id.nlm.nih.gov/mesh/T003713\",\n",
                        "      \"label\": \"Aspirin\",\n",
                        "      \"preferred\": true\n",
                        "   },\n",
                        "   {\n",
                        "      \"resource\": \"http://id.nlm.nih.gov/mesh/T003714\",\n",
                        "      \"label\": \"2-(Acetyloxy)benzoic Acid\",\n",
                        "      \"preferred\": false\n",
                        "   },\n",
                        "   {\n",
                        "      \"resource\": \"http://id.nlm.nih.gov/mesh/T003712\",\n",
                        "      \"label\": \"Acetylsalicylic Acid\",\n",
                        "      \"preferred\": false\n",
                        "   },\n",
                        "   {\n",
                        "      \"resource\": \"http://id.nlm.nih.gov/mesh/T003721\",\n",
                        "      \"label\": \"Acetysal\",\n",
                        "      \"preferred\": false\n",
                        "   },\n",
                        "   {\n",
                        "      \"resource\": \"http://id.nlm.nih.gov/mesh/T003722\",\n",
                        "      \"label\": \"Acylpyrin\",\n",
                        "      \"preferred\": false\n",
                        "   },\n",
                        "   {\n",
                        "      \"resource\": \"http://id.nlm.nih.gov/mesh/T003711\",\n",
                        "      \"label\": \"Aloxiprimum\",\n",
                        "      \"preferred\": false\n",
                        "   },\n",
                        "   {\n",
                        "      \"resource\": \"http://id.nlm.nih.gov/mesh/T003723\",\n",
                        "      \"label\": \"Colfarit\",\n",
                        "      \"preferred\": false\n",
                        "   },\n",
                        "   {\n",
                        "      \"resource\": \"http://id.nlm.nih.gov/mesh/T003715\",\n",
                        "      \"label\": \"Dispril\",\n",
                        "      \"preferred\": false\n",
                        "   },\n",
                        "   {\n",
                        "      \"resource\": \"http://id.nlm.nih.gov/mesh/T003719\",\n",
                        "      \"label\": \"Easprin\",\n",
                        "      \"preferred\": false\n",
                        "   },\n",
                        "   {\n",
                        "      \"resource\": \"http://id.nlm.nih.gov/mesh/T003724\",\n",
                        "      \"label\": \"Ecotrin\",\n",
                        "      \"preferred\": false\n",
                        "   },\n",
                        "   {\n",
                        "      \"resource\": \"http://id.nlm.nih.gov/mesh/T003725\",\n",
                        "      \"label\": \"Endosprin\",\n",
                        "      \"preferred\": false\n",
                        "   },\n",
                        "   {\n",
                        "      \"resource\": \"http://id.nlm.nih.gov/mesh/T003726\",\n",
                        "      \"label\": \"Magnecyl\",\n",
                        "      \"preferred\": false\n",
                        "   },\n",
                        "   {\n",
                        "      \"resource\": \"http://id.nlm.nih.gov/mesh/T003727\",\n",
                        "      \"label\": \"Micristin\",\n",
                        "      \"preferred\": false\n",
                        "   },\n",
                        "   {\n",
                        "      \"resource\": \"http://id.nlm.nih.gov/mesh/T003717\",\n",
                        "      \"label\": \"Polopirin\",\n",
                        "      \"preferred\": false\n",
                        "   },\n",
                        "   {\n",
                        "      \"resource\": \"http://id.nlm.nih.gov/mesh/T003728\",\n",
                        "      \"label\": \"Polopiryna\",\n",
                        "      \"preferred\": false\n",
                        "   },\n",
                        "   {\n",
                        "      \"resource\": \"http://id.nlm.nih.gov/mesh/T003716\",\n",
                        "      \"label\": \"Solprin\",\n",
                        "      \"preferred\": false\n",
                        "   },\n",
                        "   {\n",
                        "      \"resource\": \"http://id.nlm.nih.gov/mesh/T003718\",\n",
                        "      \"label\": \"Solupsan\",\n",
                        "      \"preferred\": false\n",
                        "   },\n",
                        "   {\n",
                        "      \"resource\": \"http://id.nlm.nih.gov/mesh/T003720\",\n",
                        "      \"label\": \"Zorprin\",\n",
                        "      \"preferred\": false\n",
                        "   }\n",
                        "]\n"
                    ]
                }
            ],
            "metadata": {}
        }
    ],
    "metadata": {
        "orig_nbformat": 4,
        "language_info": {
            "name": "python",
            "version": "3.7.6",
            "mimetype": "text/x-python",
            "codemirror_mode": {
                "name": "ipython",
                "version": 3
            },
            "pygments_lexer": "ipython3",
            "nbconvert_exporter": "python",
            "file_extension": ".py"
        },
        "kernelspec": {
            "name": "python3",
            "display_name": "Python 3.7.6 64-bit ('base': conda)"
        },
        "interpreter": {
            "hash": "a5653b54fe6cf6e2fae9bcefb5bfcf782e994099dd1c9a4571168f76f9b0455a"
        }
    },
    "nbformat": 4,
    "nbformat_minor": 2
}